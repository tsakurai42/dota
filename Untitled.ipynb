{
 "cells": [
  {
   "cell_type": "code",
   "execution_count": 5,
   "metadata": {},
   "outputs": [],
   "source": [
    "from bs4 import BeautifulSoup\n",
    "import requests\n",
    "import pandas as pd\n",
    "from splinter import Browser\n",
    "import time\n",
    "from pprint import pprint"
   ]
  },
  {
   "cell_type": "code",
   "execution_count": 6,
   "metadata": {},
   "outputs": [],
   "source": [
    "url = \"https://dota2.gamepedia.com/Category:Hero_icons\""
   ]
  },
  {
   "cell_type": "code",
   "execution_count": 18,
   "metadata": {},
   "outputs": [
    {
     "name": "stdout",
     "output_type": "stream",
     "text": [
      "{'Abaddon': 'https://gamepedia.cursecdn.com/dota2_gamepedia/thumb/2/26/Abaddon_icon.png/120px-Abaddon_icon.png', 'Alchemist': 'https://gamepedia.cursecdn.com/dota2_gamepedia/thumb/f/fe/Alchemist_icon.png/120px-Alchemist_icon.png', 'Ancient Apparition': 'https://gamepedia.cursecdn.com/dota2_gamepedia/thumb/6/67/Ancient_Apparition_icon.png/120px-Ancient_Apparition_icon.png', 'Anti-Mage': 'https://gamepedia.cursecdn.com/dota2_gamepedia/thumb/8/8e/Anti-Mage_icon.png/120px-Anti-Mage_icon.png', 'Arc Warden': 'https://gamepedia.cursecdn.com/dota2_gamepedia/thumb/0/07/Arc_Warden_icon.png/120px-Arc_Warden_icon.png', 'Axe': 'https://gamepedia.cursecdn.com/dota2_gamepedia/thumb/2/23/Axe_icon.png/120px-Axe_icon.png', 'Bane': 'https://gamepedia.cursecdn.com/dota2_gamepedia/thumb/c/c3/Bane_icon.png/120px-Bane_icon.png', 'Batrider': 'https://gamepedia.cursecdn.com/dota2_gamepedia/thumb/f/f2/Batrider_icon.png/120px-Batrider_icon.png', 'Beastmaster': 'https://gamepedia.cursecdn.com/dota2_gamepedia/thumb/d/d9/Beastmaster_icon.png/120px-Beastmaster_icon.png', 'Bloodseeker': 'https://gamepedia.cursecdn.com/dota2_gamepedia/thumb/5/56/Bloodseeker_icon.png/120px-Bloodseeker_icon.png', 'Bounty Hunter': 'https://gamepedia.cursecdn.com/dota2_gamepedia/thumb/a/a6/Bounty_Hunter_icon.png/120px-Bounty_Hunter_icon.png', 'Brewmaster': 'https://gamepedia.cursecdn.com/dota2_gamepedia/thumb/1/1e/Brewmaster_icon.png/120px-Brewmaster_icon.png', 'Bristleback': 'https://gamepedia.cursecdn.com/dota2_gamepedia/thumb/4/4d/Bristleback_icon.png/120px-Bristleback_icon.png', 'Broodmother': 'https://gamepedia.cursecdn.com/dota2_gamepedia/thumb/d/df/Broodmother_icon.png/120px-Broodmother_icon.png', 'Centaur Warrunner': 'https://gamepedia.cursecdn.com/dota2_gamepedia/thumb/e/ed/Centaur_Warrunner_icon.png/120px-Centaur_Warrunner_icon.png', 'Chaos Knight': 'https://gamepedia.cursecdn.com/dota2_gamepedia/thumb/f/fe/Chaos_Knight_icon.png/120px-Chaos_Knight_icon.png', 'Chen': 'https://gamepedia.cursecdn.com/dota2_gamepedia/thumb/6/61/Chen_icon.png/120px-Chen_icon.png', 'Clinkz': 'https://gamepedia.cursecdn.com/dota2_gamepedia/thumb/c/cb/Clinkz_icon.png/120px-Clinkz_icon.png', 'Clockwerk': 'https://gamepedia.cursecdn.com/dota2_gamepedia/thumb/d/d8/Clockwerk_icon.png/120px-Clockwerk_icon.png', 'Crystal Maiden': 'https://gamepedia.cursecdn.com/dota2_gamepedia/thumb/2/27/Crystal_Maiden_icon.png/120px-Crystal_Maiden_icon.png', 'Dark Seer': 'https://gamepedia.cursecdn.com/dota2_gamepedia/thumb/c/c5/Dark_Seer_icon.png/120px-Dark_Seer_icon.png', 'Dark Willow': 'https://gamepedia.cursecdn.com/dota2_gamepedia/thumb/3/3c/Dark_Willow_icon.png/120px-Dark_Willow_icon.png', 'Dazzle': 'https://gamepedia.cursecdn.com/dota2_gamepedia/thumb/e/e6/Dazzle_icon.png/120px-Dazzle_icon.png', 'Death Prophet': 'https://gamepedia.cursecdn.com/dota2_gamepedia/thumb/d/d7/Death_Prophet_icon.png/120px-Death_Prophet_icon.png', 'Disruptor': 'https://gamepedia.cursecdn.com/dota2_gamepedia/thumb/9/97/Disruptor_icon.png/120px-Disruptor_icon.png', 'Doom': 'https://gamepedia.cursecdn.com/dota2_gamepedia/thumb/4/40/Doom_icon.png/120px-Doom_icon.png', 'Dragon Knight': 'https://gamepedia.cursecdn.com/dota2_gamepedia/thumb/5/59/Dragon_Knight_icon.png/120px-Dragon_Knight_icon.png', 'Drow Ranger': 'https://gamepedia.cursecdn.com/dota2_gamepedia/thumb/8/80/Drow_Ranger_icon.png/120px-Drow_Ranger_icon.png', 'Earth Spirit': 'https://gamepedia.cursecdn.com/dota2_gamepedia/thumb/b/be/Earth_Spirit_icon.png/120px-Earth_Spirit_icon.png', 'Earthshaker': 'https://gamepedia.cursecdn.com/dota2_gamepedia/thumb/a/a5/Earthshaker_icon.png/120px-Earthshaker_icon.png', 'Elder Titan': 'https://gamepedia.cursecdn.com/dota2_gamepedia/thumb/1/1a/Elder_Titan_icon.png/120px-Elder_Titan_icon.png', 'Ember Spirit': 'https://gamepedia.cursecdn.com/dota2_gamepedia/thumb/9/91/Ember_Spirit_icon.png/120px-Ember_Spirit_icon.png', 'Enchantress': 'https://gamepedia.cursecdn.com/dota2_gamepedia/thumb/4/41/Enchantress_icon.png/120px-Enchantress_icon.png', 'Enigma': 'https://gamepedia.cursecdn.com/dota2_gamepedia/thumb/f/f7/Enigma_icon.png/120px-Enigma_icon.png', 'Faceless Void': 'https://gamepedia.cursecdn.com/dota2_gamepedia/thumb/7/73/Faceless_Void_icon.png/120px-Faceless_Void_icon.png', 'Grimstroke': 'https://gamepedia.cursecdn.com/dota2_gamepedia/thumb/d/d7/Grimstroke_icon.png/120px-Grimstroke_icon.png', 'Gyrocopter': 'https://gamepedia.cursecdn.com/dota2_gamepedia/thumb/4/4f/Gyrocopter_icon.png/120px-Gyrocopter_icon.png', 'Huskar': 'https://gamepedia.cursecdn.com/dota2_gamepedia/thumb/d/d3/Huskar_icon.png/120px-Huskar_icon.png', 'Invoker': 'https://gamepedia.cursecdn.com/dota2_gamepedia/thumb/0/00/Invoker_icon.png/120px-Invoker_icon.png', 'Io': 'https://gamepedia.cursecdn.com/dota2_gamepedia/thumb/8/8d/Io_icon.png/120px-Io_icon.png', 'Jakiro': 'https://gamepedia.cursecdn.com/dota2_gamepedia/thumb/2/2f/Jakiro_icon.png/120px-Jakiro_icon.png', 'Juggernaut': 'https://gamepedia.cursecdn.com/dota2_gamepedia/thumb/0/03/Juggernaut_icon.png/120px-Juggernaut_icon.png', 'Keeper of the Light': 'https://gamepedia.cursecdn.com/dota2_gamepedia/thumb/b/b9/Keeper_of_the_Light_icon.png/120px-Keeper_of_the_Light_icon.png', 'Kunkka': 'https://gamepedia.cursecdn.com/dota2_gamepedia/thumb/c/c0/Kunkka_icon.png/120px-Kunkka_icon.png', 'Legion Commander': 'https://gamepedia.cursecdn.com/dota2_gamepedia/thumb/a/a2/Legion_Commander_icon.png/120px-Legion_Commander_icon.png', 'Leshrac': 'https://gamepedia.cursecdn.com/dota2_gamepedia/thumb/2/26/Leshrac_icon.png/120px-Leshrac_icon.png', 'Lich': 'https://gamepedia.cursecdn.com/dota2_gamepedia/thumb/b/bb/Lich_icon.png/120px-Lich_icon.png', 'Lifestealer': 'https://gamepedia.cursecdn.com/dota2_gamepedia/thumb/2/2b/Lifestealer_icon.png/120px-Lifestealer_icon.png', 'Lina': 'https://gamepedia.cursecdn.com/dota2_gamepedia/thumb/3/35/Lina_icon.png/120px-Lina_icon.png', 'Lion': 'https://gamepedia.cursecdn.com/dota2_gamepedia/thumb/b/b8/Lion_icon.png/120px-Lion_icon.png', 'Lone Druid': 'https://gamepedia.cursecdn.com/dota2_gamepedia/thumb/5/5d/Lone_Druid_icon.png/120px-Lone_Druid_icon.png', 'Luna': 'https://gamepedia.cursecdn.com/dota2_gamepedia/thumb/7/7d/Luna_icon.png/120px-Luna_icon.png', 'Lycan': 'https://gamepedia.cursecdn.com/dota2_gamepedia/thumb/d/d6/Lycan_icon.png/120px-Lycan_icon.png', 'Magnus': 'https://gamepedia.cursecdn.com/dota2_gamepedia/thumb/b/ba/Magnus_icon.png/120px-Magnus_icon.png', 'Mars': 'https://gamepedia.cursecdn.com/dota2_gamepedia/thumb/9/9d/Mars_icon.png/120px-Mars_icon.png', 'Medusa': 'https://gamepedia.cursecdn.com/dota2_gamepedia/thumb/c/cc/Medusa_icon.png/120px-Medusa_icon.png', 'Meepo': 'https://gamepedia.cursecdn.com/dota2_gamepedia/thumb/8/85/Meepo_icon.png/120px-Meepo_icon.png', 'Mirana': 'https://gamepedia.cursecdn.com/dota2_gamepedia/thumb/1/12/Mirana_icon.png/120px-Mirana_icon.png', 'Monkey King': 'https://gamepedia.cursecdn.com/dota2_gamepedia/thumb/7/7b/Monkey_King_icon.png/120px-Monkey_King_icon.png', 'Morphling': 'https://gamepedia.cursecdn.com/dota2_gamepedia/thumb/7/7b/Morphling_icon.png/120px-Morphling_icon.png', 'Naga Siren': 'https://gamepedia.cursecdn.com/dota2_gamepedia/thumb/6/60/Naga_Siren_icon.png/120px-Naga_Siren_icon.png', \"Nature's Prophet\": 'https://gamepedia.cursecdn.com/dota2_gamepedia/thumb/c/c4/Nature%27s_Prophet_icon.png/120px-Nature%27s_Prophet_icon.png', 'Necrophos': 'https://gamepedia.cursecdn.com/dota2_gamepedia/thumb/a/a6/Necrophos_icon.png/120px-Necrophos_icon.png', 'Night Stalker': 'https://gamepedia.cursecdn.com/dota2_gamepedia/thumb/1/15/Night_Stalker_icon.png/120px-Night_Stalker_icon.png', 'Nyx Assassin': 'https://gamepedia.cursecdn.com/dota2_gamepedia/thumb/f/fa/Nyx_Assassin_icon.png/120px-Nyx_Assassin_icon.png', 'Ogre Magi': 'https://gamepedia.cursecdn.com/dota2_gamepedia/thumb/e/e0/Ogre_Magi_icon.png/120px-Ogre_Magi_icon.png', 'Omniknight': 'https://gamepedia.cursecdn.com/dota2_gamepedia/thumb/e/e2/Omniknight_icon.png/120px-Omniknight_icon.png', 'Oracle': 'https://gamepedia.cursecdn.com/dota2_gamepedia/thumb/7/72/Oracle_icon.png/120px-Oracle_icon.png', 'Outworld Devourer': 'https://gamepedia.cursecdn.com/dota2_gamepedia/thumb/9/99/Outworld_Devourer_icon.png/120px-Outworld_Devourer_icon.png', 'Pangolier': 'https://gamepedia.cursecdn.com/dota2_gamepedia/thumb/4/4e/Pangolier_icon.png/120px-Pangolier_icon.png', 'Phantom Assassin': 'https://gamepedia.cursecdn.com/dota2_gamepedia/thumb/8/8e/Phantom_Assassin_icon.png/120px-Phantom_Assassin_icon.png', 'Phantom Lancer': 'https://gamepedia.cursecdn.com/dota2_gamepedia/thumb/8/81/Phantom_Lancer_icon.png/120px-Phantom_Lancer_icon.png', 'Phoenix': 'https://gamepedia.cursecdn.com/dota2_gamepedia/thumb/1/14/Phoenix_icon.png/120px-Phoenix_icon.png', 'Puck': 'https://gamepedia.cursecdn.com/dota2_gamepedia/thumb/1/13/Puck_icon.png/120px-Puck_icon.png', 'Pudge': 'https://gamepedia.cursecdn.com/dota2_gamepedia/thumb/c/c0/Pudge_icon.png/120px-Pudge_icon.png', 'Pugna': 'https://gamepedia.cursecdn.com/dota2_gamepedia/thumb/c/cd/Pugna_icon.png/120px-Pugna_icon.png', 'Queen of Pain': 'https://gamepedia.cursecdn.com/dota2_gamepedia/thumb/a/a1/Queen_of_Pain_icon.png/120px-Queen_of_Pain_icon.png', 'Razor': 'https://gamepedia.cursecdn.com/dota2_gamepedia/thumb/6/66/Razor_icon.png/120px-Razor_icon.png', 'Riki': 'https://gamepedia.cursecdn.com/dota2_gamepedia/thumb/7/7d/Riki_icon.png/120px-Riki_icon.png', 'Rubick': 'https://gamepedia.cursecdn.com/dota2_gamepedia/thumb/8/8a/Rubick_icon.png/120px-Rubick_icon.png', 'Sand King': 'https://gamepedia.cursecdn.com/dota2_gamepedia/thumb/7/79/Sand_King_icon.png/120px-Sand_King_icon.png', 'Shadow Demon': 'https://gamepedia.cursecdn.com/dota2_gamepedia/thumb/f/f3/Shadow_Demon_icon.png/120px-Shadow_Demon_icon.png', 'Shadow Fiend': 'https://gamepedia.cursecdn.com/dota2_gamepedia/thumb/3/36/Shadow_Fiend_icon.png/120px-Shadow_Fiend_icon.png', 'Shadow Shaman': 'https://gamepedia.cursecdn.com/dota2_gamepedia/thumb/9/96/Shadow_Shaman_icon.png/120px-Shadow_Shaman_icon.png', 'Silencer': 'https://gamepedia.cursecdn.com/dota2_gamepedia/thumb/9/9f/Silencer_icon.png/120px-Silencer_icon.png', 'Skeleton King': 'https://gamepedia.cursecdn.com/dota2_gamepedia/thumb/0/07/Skeleton_King_icon.png/120px-Skeleton_King_icon.png', 'Skywrath Mage': 'https://gamepedia.cursecdn.com/dota2_gamepedia/thumb/b/bf/Skywrath_Mage_icon.png/120px-Skywrath_Mage_icon.png', 'Slardar': 'https://gamepedia.cursecdn.com/dota2_gamepedia/thumb/7/7e/Slardar_icon.png/120px-Slardar_icon.png', 'Slark': 'https://gamepedia.cursecdn.com/dota2_gamepedia/thumb/a/aa/Slark_icon.png/120px-Slark_icon.png', 'Sniper': 'https://gamepedia.cursecdn.com/dota2_gamepedia/thumb/5/51/Sniper_icon.png/120px-Sniper_icon.png', 'Spectre': 'https://gamepedia.cursecdn.com/dota2_gamepedia/thumb/f/ff/Spectre_icon.png/120px-Spectre_icon.png', 'Spirit Breaker': 'https://gamepedia.cursecdn.com/dota2_gamepedia/thumb/d/df/Spirit_Breaker_icon.png/120px-Spirit_Breaker_icon.png', 'Storm Spirit': 'https://gamepedia.cursecdn.com/dota2_gamepedia/thumb/1/13/Storm_Spirit_icon.png/120px-Storm_Spirit_icon.png', 'Sven': 'https://gamepedia.cursecdn.com/dota2_gamepedia/thumb/1/1b/Sven_icon.png/120px-Sven_icon.png', 'Techies': 'https://gamepedia.cursecdn.com/dota2_gamepedia/thumb/f/fa/Techies_icon.png/120px-Techies_icon.png', 'Templar Assassin': 'https://gamepedia.cursecdn.com/dota2_gamepedia/thumb/9/9c/Templar_Assassin_icon.png/120px-Templar_Assassin_icon.png', 'Terrorblade': 'https://gamepedia.cursecdn.com/dota2_gamepedia/thumb/5/52/Terrorblade_icon.png/120px-Terrorblade_icon.png', 'Tidehunter': 'https://gamepedia.cursecdn.com/dota2_gamepedia/thumb/d/d5/Tidehunter_icon.png/120px-Tidehunter_icon.png', 'Timbersaw': 'https://gamepedia.cursecdn.com/dota2_gamepedia/thumb/9/9a/Timbersaw_icon.png/120px-Timbersaw_icon.png', 'Tinker': 'https://gamepedia.cursecdn.com/dota2_gamepedia/thumb/d/d1/Tinker_icon.png/120px-Tinker_icon.png', 'Tiny': 'https://gamepedia.cursecdn.com/dota2_gamepedia/thumb/5/55/Tiny_icon.png/120px-Tiny_icon.png', 'Treant Protector': 'https://gamepedia.cursecdn.com/dota2_gamepedia/thumb/3/3f/Treant_Protector_icon.png/120px-Treant_Protector_icon.png', 'Troll Warlord': 'https://gamepedia.cursecdn.com/dota2_gamepedia/thumb/f/f0/Troll_Warlord_icon.png/120px-Troll_Warlord_icon.png', 'Tusk': 'https://gamepedia.cursecdn.com/dota2_gamepedia/thumb/c/ce/Tusk_icon.png/120px-Tusk_icon.png', 'Underlord': 'https://gamepedia.cursecdn.com/dota2_gamepedia/thumb/1/18/Underlord_icon.png/120px-Underlord_icon.png', 'Undying': 'https://gamepedia.cursecdn.com/dota2_gamepedia/thumb/6/61/Undying_icon.png/120px-Undying_icon.png', 'Ursa': 'https://gamepedia.cursecdn.com/dota2_gamepedia/thumb/4/40/Ursa_icon.png/120px-Ursa_icon.png', 'Vengeful Spirit': 'https://gamepedia.cursecdn.com/dota2_gamepedia/thumb/2/20/Vengeful_Spirit_icon.png/120px-Vengeful_Spirit_icon.png', 'Venomancer': 'https://gamepedia.cursecdn.com/dota2_gamepedia/thumb/2/25/Venomancer_icon.png/120px-Venomancer_icon.png', 'Viper': 'https://gamepedia.cursecdn.com/dota2_gamepedia/thumb/5/5f/Viper_icon.png/120px-Viper_icon.png', 'Visage': 'https://gamepedia.cursecdn.com/dota2_gamepedia/thumb/9/9e/Visage_icon.png/120px-Visage_icon.png', 'Warlock': 'https://gamepedia.cursecdn.com/dota2_gamepedia/thumb/3/3f/Warlock_icon.png/120px-Warlock_icon.png', 'Weaver': 'https://gamepedia.cursecdn.com/dota2_gamepedia/thumb/0/09/Weaver_icon.png/120px-Weaver_icon.png', 'Windranger': 'https://gamepedia.cursecdn.com/dota2_gamepedia/thumb/6/60/Windranger_icon.png/120px-Windranger_icon.png', 'Winter Wyvern': 'https://gamepedia.cursecdn.com/dota2_gamepedia/thumb/4/4a/Winter_Wyvern_icon.png/120px-Winter_Wyvern_icon.png', 'Witch Doctor': 'https://gamepedia.cursecdn.com/dota2_gamepedia/thumb/3/33/Witch_Doctor_icon.png/120px-Witch_Doctor_icon.png', 'Wraith King': 'https://gamepedia.cursecdn.com/dota2_gamepedia/thumb/1/1e/Wraith_King_icon.png/120px-Wraith_King_icon.png', 'Zeus': 'https://gamepedia.cursecdn.com/dota2_gamepedia/thumb/3/3f/Zeus_icon.png/120px-Zeus_icon.png'}\n"
     ]
    }
   ],
   "source": [
    "request = requests.get(url)\n",
    "soup = BeautifulSoup(request.text, 'lxml')\n",
    "results  = soup.select('.gallerybox .thumb img')\n",
    "overall_hero_icons = {}\n",
    "for each_result in results:\n",
    "#     print(each_result['src'].split('?')[0])\n",
    "#     print(each_result['alt'][:-9])\n",
    "    \n",
    "    overall_hero_icons[each_result['alt'][:-9]] = each_result['src'].split('?')[0]\n",
    "    \n",
    "print(overall_hero_icons)"
   ]
  },
  {
   "cell_type": "code",
   "execution_count": null,
   "metadata": {},
   "outputs": [],
   "source": []
  }
 ],
 "metadata": {
  "kernelspec": {
   "display_name": "Python 3",
   "language": "python",
   "name": "python3"
  },
  "language_info": {
   "codemirror_mode": {
    "name": "ipython",
    "version": 3
   },
   "file_extension": ".py",
   "mimetype": "text/x-python",
   "name": "python",
   "nbconvert_exporter": "python",
   "pygments_lexer": "ipython3",
   "version": "3.7.1"
  }
 },
 "nbformat": 4,
 "nbformat_minor": 2
}
