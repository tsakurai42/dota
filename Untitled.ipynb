{
 "cells": [
  {
   "cell_type": "code",
   "execution_count": 1,
   "metadata": {},
   "outputs": [],
   "source": [
    "import pandas as pd\n",
    "import xgboost as xgb\n",
    "import pickle"
   ]
  },
  {
   "cell_type": "code",
   "execution_count": 2,
   "metadata": {},
   "outputs": [],
   "source": [
    "load_model = pickle.load(open('model.pickle.dat','rb'))"
   ]
  },
  {
   "cell_type": "code",
   "execution_count": 3,
   "metadata": {},
   "outputs": [
    {
     "data": {
      "text/plain": [
       "XGBClassifier(base_score=0.5, booster='gbtree', colsample_bylevel=1,\n",
       "       colsample_bytree=0.976562270506935, gamma=0.04424625102595975,\n",
       "       learning_rate=0.08879485872574355, max_delta_step=0, max_depth=2,\n",
       "       min_child_weight=1, missing=nan, n_estimators=86, n_jobs=1,\n",
       "       nthread=None, objective='binary:logistic', random_state=0,\n",
       "       reg_alpha=0, reg_lambda=1, scale_pos_weight=1, seed=None,\n",
       "       silent=True, subsample=0.7301321323053057)"
      ]
     },
     "execution_count": 3,
     "metadata": {},
     "output_type": "execute_result"
    }
   ],
   "source": [
    "load_model"
   ]
  },
  {
   "cell_type": "code",
   "execution_count": 11,
   "metadata": {},
   "outputs": [],
   "source": [
    "prediction = load_model.predict(pd.DataFrame([[41, 1, 0, 0, 0, 1, 1, 0, 0, 0, 0, 0, 0, 0, 0, 0, 0, 0, 0, 0, 0, 0, 0, 0, 0, 0, 0, 0, 0, 0, 0, 0, 0, 0, 0, 0, 0, 0, 0, 0, 0, 0, 0, 0, 0, 0, 0, 0, 0, 0, 0, 0, 0, 0, 0, 0, 0, 0, 0, 0, 0, 0, 0, 0, 0, 0, 0, 0, 0, 0, 0, 0, 0, 0, 0, 0, 0, 0, 0, 0, 0, 0, 0, 0, 0, 0, 0, 0, 0, 0, 0, 0, 0, 0, 0, 0, 0, 0, 0, 0, 0, 0, 0, 0, 0, 0, 0, 0, 0, 0, 0, 0, 0, 0, 0, 0, 0, 0, 0, 0, 1, 1, 0, 0, 0, 0, 0, 0, 0, 0, 0, 0, 0, 0, 0, 0, 0, 0, 0, 0, 0, 0, 0, 0, 0, 0, 0, 0, 0, 0, 0, 0, 0, 0, 0, 0, 0, 0, 0, 0, 0, 0, 0, 0, 0, 0, 0, 0, 0, 0, 0, 0, 0, 0, 0, 0, 0, 0, 0, 0, 0, 0, 0, 0, 0, 0, 0, 0, 0, 0, 0, 0, 0, 0, 0, 0, 0, 0, 0, 0, 0, 0, 0, 0, 0, 0, 0, 0, 0, 0, 0, 0, 0, 0, 0, 0, 0, 0, 0, 0, 0, 0, 0, 0, 0, 0, 0, 0, 0, 0, 0, 0, 0, 0, 0, 0, 0, 0, 0, 1, 0, 0, 0, 0, 0, 0, 0, 0, 0, 0, 0, 0, 0, 0, 1, 0, 0, 0, 0, 0, 0, 0, 0, 0, 0, 0, 0, 0, 0, 0, 0]],columns=['patch', 'fp_dire', 'fp_radiant', 'dire_1', 'dire_2', 'dire_3', 'dire_4', 'dire_5', 'dire_6', 'dire_7', 'dire_8', 'dire_9', 'dire_10', 'dire_11', 'dire_12', 'dire_13', 'dire_14', 'dire_15', 'dire_16', 'dire_17', 'dire_18', 'dire_19', 'dire_20', 'dire_21', 'dire_22', 'dire_23', 'dire_25', 'dire_26', 'dire_27', 'dire_28', 'dire_29', 'dire_30', 'dire_31', 'dire_32', 'dire_33', 'dire_34', 'dire_35', 'dire_36', 'dire_37', 'dire_38', 'dire_39', 'dire_40', 'dire_41', 'dire_42', 'dire_43', 'dire_44', 'dire_45', 'dire_46', 'dire_47', 'dire_48', 'dire_49', 'dire_50', 'dire_51', 'dire_52', 'dire_53', 'dire_54', 'dire_55', 'dire_56', 'dire_57', 'dire_58', 'dire_59', 'dire_60', 'dire_61', 'dire_62', 'dire_63', 'dire_64', 'dire_65', 'dire_66', 'dire_67', 'dire_68', 'dire_69', 'dire_70', 'dire_71', 'dire_72', 'dire_73', 'dire_74', 'dire_75', 'dire_76', 'dire_77', 'dire_78', 'dire_79', 'dire_80', 'dire_81', 'dire_82', 'dire_83', 'dire_84', 'dire_85', 'dire_86', 'dire_87', 'dire_88', 'dire_89', 'dire_90', 'dire_91', 'dire_92', 'dire_93', 'dire_94', 'dire_95', 'dire_96', 'dire_97', 'dire_98', 'dire_99', 'dire_100', 'dire_101', 'dire_102', 'dire_103', 'dire_104', 'dire_105', 'dire_106', 'dire_107', 'dire_108', 'dire_109', 'dire_110', 'dire_111', 'dire_112', 'dire_113', 'dire_114', 'dire_119', 'dire_120', 'dire_121', 'dire_129', 'radiant_1', 'radiant_2', 'radiant_3', 'radiant_4', 'radiant_5', 'radiant_6', 'radiant_7', 'radiant_8', 'radiant_9', 'radiant_10', 'radiant_11', 'radiant_12', 'radiant_13', 'radiant_14', 'radiant_15', 'radiant_16', 'radiant_17', 'radiant_18', 'radiant_19', 'radiant_20', 'radiant_21', 'radiant_22', 'radiant_23', 'radiant_25', 'radiant_26', 'radiant_27', 'radiant_28', 'radiant_29', 'radiant_30', 'radiant_31', 'radiant_32', 'radiant_33', 'radiant_34', 'radiant_35', 'radiant_36', 'radiant_37', 'radiant_38', 'radiant_39', 'radiant_40', 'radiant_41', 'radiant_42', 'radiant_43', 'radiant_44', 'radiant_45', 'radiant_46', 'radiant_47', 'radiant_48', 'radiant_49', 'radiant_50', 'radiant_51', 'radiant_52', 'radiant_53', 'radiant_54', 'radiant_55', 'radiant_56', 'radiant_57', 'radiant_58', 'radiant_59', 'radiant_60', 'radiant_61', 'radiant_62', 'radiant_63', 'radiant_64', 'radiant_65', 'radiant_66', 'radiant_67', 'radiant_68', 'radiant_69', 'radiant_70', 'radiant_71', 'radiant_72', 'radiant_73', 'radiant_74', 'radiant_75', 'radiant_76', 'radiant_77', 'radiant_78', 'radiant_79', 'radiant_80', 'radiant_81', 'radiant_82', 'radiant_83', 'radiant_84', 'radiant_85', 'radiant_86', 'radiant_87', 'radiant_88', 'radiant_89', 'radiant_90', 'radiant_91', 'radiant_92', 'radiant_93', 'radiant_94', 'radiant_95', 'radiant_96', 'radiant_97', 'radiant_98', 'radiant_99', 'radiant_100', 'radiant_101', 'radiant_102', 'radiant_103', 'radiant_104', 'radiant_105', 'radiant_106', 'radiant_107', 'radiant_108', 'radiant_109', 'radiant_110', 'radiant_111', 'radiant_112', 'radiant_113', 'radiant_114', 'radiant_119', 'radiant_120', 'radiant_121', 'radiant_129', 'dire_team_15', 'dire_team_36', 'dire_team_39', 'dire_team_2163', 'dire_team_111474', 'dire_team_350190', 'dire_team_543897', 'dire_team_726228', 'dire_team_1375614', 'dire_team_1838315', 'dire_team_1883502', 'dire_team_2108395', 'dire_team_2586976', 'dire_team_2626685', 'dire_team_2672298', 'dire_team_6209804', 'dire_team_6214973', 'rad_team_15', 'rad_team_36', 'rad_team_39', 'rad_team_2163', 'rad_team_111474', 'rad_team_350190', 'rad_team_543897', 'rad_team_726228', 'rad_team_1375614', 'rad_team_1838315', 'rad_team_1883502', 'rad_team_2108395', 'rad_team_2586976', 'rad_team_2626685', 'rad_team_2672298', 'rad_team_6209804', 'rad_team_6214973']))"
   ]
  },
  {
   "cell_type": "code",
   "execution_count": 13,
   "metadata": {},
   "outputs": [
    {
     "data": {
      "text/plain": [
       "0"
      ]
     },
     "execution_count": 13,
     "metadata": {},
     "output_type": "execute_result"
    }
   ],
   "source": [
    "prediction[0]"
   ]
  },
  {
   "cell_type": "code",
   "execution_count": 15,
   "metadata": {},
   "outputs": [
    {
     "data": {
      "text/plain": [
       "4"
      ]
     },
     "execution_count": 15,
     "metadata": {},
     "output_type": "execute_result"
    }
   ],
   "source": [
    "test = [1,2,3,4,5]\n",
    "test[3]"
   ]
  },
  {
   "cell_type": "code",
   "execution_count": 18,
   "metadata": {},
   "outputs": [
    {
     "name": "stdout",
     "output_type": "stream",
     "text": [
      "['Anti-Mage', 'Axe', 'Rubick', 'Ember Spirit']\n"
     ]
    }
   ],
   "source": [
    "hero_dict = { 86: 'Rubick', 106: 'Ember Spirit', 7: 'Earthshaker', 50: 'Dazzle', 29: 'Tidehunter', 33: 'Enigma', 91: 'Io', 3: 'Bane', 5: 'Crystal Maiden', 13: 'Puck', 11: 'Shadow Fiend', 69: 'Doom', 30: 'Witch Doctor', 55: 'Dark Seer', 74: 'Invoker', 20: 'Vengeful Spirit', 62: 'Bounty Hunter', 9: 'Mirana', 88: 'Nyx Assassin', 26: 'Lion', 84: 'Ogre Magi', 39: 'Queen of Pain', 103: 'Elder Titan', 51: 'Clockwerk', 66: 'Chen', 53: \"Nature's Prophet\", 100: 'Tusk', 65: 'Batrider', 15: 'Razor', 6: 'Drow Ranger', 109: 'Terrorblade', 2: 'Axe', 99: 'Bristleback', 12: 'Phantom Lancer', 76: 'Outworld Devourer', 10: 'Morphling', 98: 'Timbersaw', 68: 'Ancient Apparition', 28: 'Slardar', 78: 'Brewmaster', 19: 'Tiny', 90: 'Keeper of the Light', 23: 'Kunkka', 80: 'Lone Druid', 8: 'Juggernaut', 16: 'Sand King', 79: 'Shadow Demon', 114: 'Monkey King', 17: 'Storm Spirit', 107: 'Earth Spirit', 87: 'Disruptor', 95: 'Troll Warlord', 71: 'Spirit Breaker', 63: 'Weaver', 44: 'Phantom Assassin', 72: 'Gyrocopter', 21: 'Windranger', 89: 'Naga Siren', 36: 'Necrophos', 46: 'Templar Assassin', 1: 'Anti-Mage', 22: 'Zeus', 40: 'Venomancer', 102: 'Abaddon', 18: 'Sven', 97: 'Magnus', 96: 'Centaur Warrunner', 60: 'Night Stalker', 54: 'Lifestealer', 85: 'Undying', 25: 'Lina', 41: 'Faceless Void', 64: 'Jakiro', 75: 'Silencer', 43: 'Death Prophet', 92: 'Visage', 67: 'Spectre', 38: 'Beastmaster', 31: 'Lich', 93: 'Slark', 52: 'Leshrac', 61: 'Broodmother', 94: 'Medusa', 47: 'Viper', 48: 'Luna', 45: 'Pugna', 49: 'Dragon Knight', 111: 'Oracle', 77: 'Lycan', 56: 'Clinkz', 58: 'Enchantress', 27: 'Shadow Shaman', 101: 'Skywrath Mage', 113: 'Arc Warden', 70: 'Ursa', 112: 'Winter Wyvern', 42: 'Wraith King', 83: 'Treant Protector', 104: 'Legion Commander', 57: 'Omniknight', 59: 'Huskar', 120: 'Pangolier', 4: 'Bloodseeker', 37: 'Warlock', 35: 'Sniper', 108: 'Underlord', 82: 'Meepo', 73: 'Alchemist', 110: 'Phoenix', 14: 'Pudge', 34: 'Tinker', 81: 'Chaos Knight', 121: 'Grimstroke', 119: 'Dark Willow', 105: 'Techies', 32: 'Riki', 129: 'Mars' }\n",
    "heropicks = ['1','2','86','106']\n",
    "print(str([hero_dict[int(_)] for _ in heropicks]))"
   ]
  },
  {
   "cell_type": "code",
   "execution_count": 19,
   "metadata": {},
   "outputs": [
    {
     "data": {
      "text/plain": [
       "\"['1', '2', '86', '106']\""
      ]
     },
     "execution_count": 19,
     "metadata": {},
     "output_type": "execute_result"
    }
   ],
   "source": [
    "str(heropicks)"
   ]
  },
  {
   "cell_type": "code",
   "execution_count": null,
   "metadata": {},
   "outputs": [],
   "source": []
  }
 ],
 "metadata": {
  "kernelspec": {
   "display_name": "Python 3",
   "language": "python",
   "name": "python3"
  },
  "language_info": {
   "codemirror_mode": {
    "name": "ipython",
    "version": 3
   },
   "file_extension": ".py",
   "mimetype": "text/x-python",
   "name": "python",
   "nbconvert_exporter": "python",
   "pygments_lexer": "ipython3",
   "version": "3.7.1"
  }
 },
 "nbformat": 4,
 "nbformat_minor": 2
}
